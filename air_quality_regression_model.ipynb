{
  "nbformat": 4,
  "nbformat_minor": 0,
  "metadata": {
    "colab": {
      "provenance": []
    },
    "kernelspec": {
      "name": "python3",
      "display_name": "Python 3"
    },
    "language_info": {
      "name": "python"
    }
  },
  "cells": [
    {
      "cell_type": "markdown",
      "source": [
        "# Lab 7 Ari Quality (Linear Regression)\n",
        "## Zaur Gouliev\n",
        "\n",
        "Carbon Monoxide (CO) is a colorless, odorless, tasteless, toxic gas that has the molecular formula CO.\n",
        "\n",
        "Use the dataset provided in the link below to predict the levels of CO (True hourly averaged concentration CO in mg/m^3)\n",
        "\n",
        "Use Linear Regression for this task.\n",
        "\n",
        "https://archive.ics.uci.edu/ml/datasets/Air+Quality"
      ],
      "metadata": {
        "id": "kSpTIM4jnrTq"
      }
    },
    {
      "cell_type": "code",
      "source": [
        "import pandas as pd\n",
        "import numpy as np\n",
        "import matplotlib.pyplot as plt\n",
        "import seaborn as sns\n",
        "from sklearn.model_selection import train_test_split\n",
        "from sklearn.linear_model import LinearRegression\n",
        "from sklearn.preprocessing import LabelEncoder\n",
        "from sklearn.metrics import mean_squared_error, r2_score"
      ],
      "metadata": {
        "id": "XSKlpwoSo0h_"
      },
      "execution_count": null,
      "outputs": []
    },
    {
      "cell_type": "code",
      "source": [
        "df = pd.read_csv('AirQualityUCI.csv', sep=';', decimal=',', header=0)"
      ],
      "metadata": {
        "id": "KJ0vNmnYnq50"
      },
      "execution_count": null,
      "outputs": []
    },
    {
      "cell_type": "code",
      "source": [
        "print(\"Shape of dataset:\", df.shape)"
      ],
      "metadata": {
        "colab": {
          "base_uri": "https://localhost:8080/"
        },
        "id": "SSLpDabpnq8S",
        "outputId": "e065a290-02ad-40e4-fdd1-d30d36d9655d"
      },
      "execution_count": null,
      "outputs": [
        {
          "output_type": "stream",
          "name": "stdout",
          "text": [
            "Shape of dataset: (9471, 17)\n"
          ]
        }
      ]
    },
    {
      "cell_type": "code",
      "source": [
        "print(df.dtypes)"
      ],
      "metadata": {
        "colab": {
          "base_uri": "https://localhost:8080/"
        },
        "id": "uF8AV_88qMDf",
        "outputId": "204598b0-1824-44a9-c79c-f8572c234189"
      },
      "execution_count": null,
      "outputs": [
        {
          "output_type": "stream",
          "name": "stdout",
          "text": [
            "Date              object\n",
            "Time              object\n",
            "CO(GT)           float64\n",
            "PT08.S1(CO)      float64\n",
            "NMHC(GT)         float64\n",
            "C6H6(GT)         float64\n",
            "PT08.S2(NMHC)    float64\n",
            "NOx(GT)          float64\n",
            "PT08.S3(NOx)     float64\n",
            "NO2(GT)          float64\n",
            "PT08.S4(NO2)     float64\n",
            "PT08.S5(O3)      float64\n",
            "T                float64\n",
            "RH               float64\n",
            "AH               float64\n",
            "Unnamed: 15      float64\n",
            "Unnamed: 16      float64\n",
            "dtype: object\n"
          ]
        }
      ]
    },
    {
      "cell_type": "code",
      "source": [
        "print(\"Number of missing values in each column:\")\n",
        "print(df.isnull().sum())"
      ],
      "metadata": {
        "colab": {
          "base_uri": "https://localhost:8080/"
        },
        "id": "ctXKruXPqN_n",
        "outputId": "5286d3bc-e7b7-4a84-cfe6-764219e66055"
      },
      "execution_count": null,
      "outputs": [
        {
          "output_type": "stream",
          "name": "stdout",
          "text": [
            "Number of missing values in each column:\n",
            "Date              114\n",
            "Time              114\n",
            "CO(GT)            114\n",
            "PT08.S1(CO)       114\n",
            "NMHC(GT)          114\n",
            "C6H6(GT)          114\n",
            "PT08.S2(NMHC)     114\n",
            "NOx(GT)           114\n",
            "PT08.S3(NOx)      114\n",
            "NO2(GT)           114\n",
            "PT08.S4(NO2)      114\n",
            "PT08.S5(O3)       114\n",
            "T                 114\n",
            "RH                114\n",
            "AH                114\n",
            "Unnamed: 15      9471\n",
            "Unnamed: 16      9471\n",
            "dtype: int64\n"
          ]
        }
      ]
    },
    {
      "cell_type": "code",
      "source": [
        "print(df.describe())"
      ],
      "metadata": {
        "colab": {
          "base_uri": "https://localhost:8080/"
        },
        "id": "iKvxALbQqPuh",
        "outputId": "22c81adc-1558-4f90-e0c4-51a48c6912b0"
      },
      "execution_count": null,
      "outputs": [
        {
          "output_type": "stream",
          "name": "stdout",
          "text": [
            "            CO(GT)  PT08.S1(CO)     NMHC(GT)     C6H6(GT)  PT08.S2(NMHC)  \\\n",
            "count  9357.000000  9357.000000  9357.000000  9357.000000    9357.000000   \n",
            "mean    -34.207524  1048.990061  -159.090093     1.865683     894.595276   \n",
            "std      77.657170   329.832710   139.789093    41.380206     342.333252   \n",
            "min    -200.000000  -200.000000  -200.000000  -200.000000    -200.000000   \n",
            "25%       0.600000   921.000000  -200.000000     4.000000     711.000000   \n",
            "50%       1.500000  1053.000000  -200.000000     7.900000     895.000000   \n",
            "75%       2.600000  1221.000000  -200.000000    13.600000    1105.000000   \n",
            "max      11.900000  2040.000000  1189.000000    63.700000    2214.000000   \n",
            "\n",
            "           NOx(GT)  PT08.S3(NOx)      NO2(GT)  PT08.S4(NO2)  PT08.S5(O3)  \\\n",
            "count  9357.000000   9357.000000  9357.000000   9357.000000  9357.000000   \n",
            "mean    168.616971    794.990168    58.148873   1391.479641   975.072032   \n",
            "std     257.433866    321.993552   126.940455    467.210125   456.938184   \n",
            "min    -200.000000   -200.000000  -200.000000   -200.000000  -200.000000   \n",
            "25%      50.000000    637.000000    53.000000   1185.000000   700.000000   \n",
            "50%     141.000000    794.000000    96.000000   1446.000000   942.000000   \n",
            "75%     284.000000    960.000000   133.000000   1662.000000  1255.000000   \n",
            "max    1479.000000   2683.000000   340.000000   2775.000000  2523.000000   \n",
            "\n",
            "                 T           RH           AH  Unnamed: 15  Unnamed: 16  \n",
            "count  9357.000000  9357.000000  9357.000000          0.0          0.0  \n",
            "mean      9.778305    39.485380    -6.837604          NaN          NaN  \n",
            "std      43.203623    51.216145    38.976670          NaN          NaN  \n",
            "min    -200.000000  -200.000000  -200.000000          NaN          NaN  \n",
            "25%      10.900000    34.100000     0.692300          NaN          NaN  \n",
            "50%      17.200000    48.600000     0.976800          NaN          NaN  \n",
            "75%      24.100000    61.900000     1.296200          NaN          NaN  \n",
            "max      44.600000    88.700000     2.231000          NaN          NaN  \n"
          ]
        }
      ]
    },
    {
      "cell_type": "code",
      "source": [
        "print(df.isna().sum())"
      ],
      "metadata": {
        "colab": {
          "base_uri": "https://localhost:8080/"
        },
        "id": "OXeCk_qesbmc",
        "outputId": "0e222232-b55e-45ab-fc2b-591c545dc973"
      },
      "execution_count": null,
      "outputs": [
        {
          "output_type": "stream",
          "name": "stdout",
          "text": [
            "Date              114\n",
            "Time              114\n",
            "CO(GT)            114\n",
            "PT08.S1(CO)       114\n",
            "NMHC(GT)          114\n",
            "C6H6(GT)          114\n",
            "PT08.S2(NMHC)     114\n",
            "NOx(GT)           114\n",
            "PT08.S3(NOx)      114\n",
            "NO2(GT)           114\n",
            "PT08.S4(NO2)      114\n",
            "PT08.S5(O3)       114\n",
            "T                 114\n",
            "RH                114\n",
            "AH                114\n",
            "Unnamed: 15      9471\n",
            "Unnamed: 16      9471\n",
            "dtype: int64\n"
          ]
        }
      ]
    },
    {
      "cell_type": "code",
      "source": [
        "print(df.shape[0])"
      ],
      "metadata": {
        "colab": {
          "base_uri": "https://localhost:8080/"
        },
        "id": "18-oUegqsSqR",
        "outputId": "82a35254-6d79-4fe3-bed0-fc15177aae2f"
      },
      "execution_count": null,
      "outputs": [
        {
          "output_type": "stream",
          "name": "stdout",
          "text": [
            "9471\n"
          ]
        }
      ]
    },
    {
      "cell_type": "code",
      "source": [
        "df = df.drop(columns=['Date', 'Time', 'Unnamed: 15', 'Unnamed: 16', 'NMHC(GT)'])\n",
        "df = df.dropna()"
      ],
      "metadata": {
        "id": "KgFinHRir3Wz"
      },
      "execution_count": null,
      "outputs": []
    },
    {
      "cell_type": "code",
      "source": [
        "X = df.drop(columns=['CO(GT)'])\n",
        "y = df['CO(GT)']"
      ],
      "metadata": {
        "id": "_EWASNjEuJZc"
      },
      "execution_count": null,
      "outputs": []
    },
    {
      "cell_type": "code",
      "source": [
        "X_train, X_test, y_train, y_test = train_test_split(X, y, test_size=0.2, random_state=42)"
      ],
      "metadata": {
        "id": "x8SlQTcMuM_m"
      },
      "execution_count": null,
      "outputs": []
    },
    {
      "cell_type": "code",
      "source": [
        "model = LinearRegression()\n",
        "model.fit(X_train, y_train)"
      ],
      "metadata": {
        "colab": {
          "base_uri": "https://localhost:8080/",
          "height": 75
        },
        "id": "1pUJgJC5uP1r",
        "outputId": "e5cb5ebf-eb7b-4232-d1ee-6c59099b49f0"
      },
      "execution_count": null,
      "outputs": [
        {
          "output_type": "execute_result",
          "data": {
            "text/plain": [
              "LinearRegression()"
            ],
            "text/html": [
              "<style>#sk-container-id-1 {color: black;background-color: white;}#sk-container-id-1 pre{padding: 0;}#sk-container-id-1 div.sk-toggleable {background-color: white;}#sk-container-id-1 label.sk-toggleable__label {cursor: pointer;display: block;width: 100%;margin-bottom: 0;padding: 0.3em;box-sizing: border-box;text-align: center;}#sk-container-id-1 label.sk-toggleable__label-arrow:before {content: \"▸\";float: left;margin-right: 0.25em;color: #696969;}#sk-container-id-1 label.sk-toggleable__label-arrow:hover:before {color: black;}#sk-container-id-1 div.sk-estimator:hover label.sk-toggleable__label-arrow:before {color: black;}#sk-container-id-1 div.sk-toggleable__content {max-height: 0;max-width: 0;overflow: hidden;text-align: left;background-color: #f0f8ff;}#sk-container-id-1 div.sk-toggleable__content pre {margin: 0.2em;color: black;border-radius: 0.25em;background-color: #f0f8ff;}#sk-container-id-1 input.sk-toggleable__control:checked~div.sk-toggleable__content {max-height: 200px;max-width: 100%;overflow: auto;}#sk-container-id-1 input.sk-toggleable__control:checked~label.sk-toggleable__label-arrow:before {content: \"▾\";}#sk-container-id-1 div.sk-estimator input.sk-toggleable__control:checked~label.sk-toggleable__label {background-color: #d4ebff;}#sk-container-id-1 div.sk-label input.sk-toggleable__control:checked~label.sk-toggleable__label {background-color: #d4ebff;}#sk-container-id-1 input.sk-hidden--visually {border: 0;clip: rect(1px 1px 1px 1px);clip: rect(1px, 1px, 1px, 1px);height: 1px;margin: -1px;overflow: hidden;padding: 0;position: absolute;width: 1px;}#sk-container-id-1 div.sk-estimator {font-family: monospace;background-color: #f0f8ff;border: 1px dotted black;border-radius: 0.25em;box-sizing: border-box;margin-bottom: 0.5em;}#sk-container-id-1 div.sk-estimator:hover {background-color: #d4ebff;}#sk-container-id-1 div.sk-parallel-item::after {content: \"\";width: 100%;border-bottom: 1px solid gray;flex-grow: 1;}#sk-container-id-1 div.sk-label:hover label.sk-toggleable__label {background-color: #d4ebff;}#sk-container-id-1 div.sk-serial::before {content: \"\";position: absolute;border-left: 1px solid gray;box-sizing: border-box;top: 0;bottom: 0;left: 50%;z-index: 0;}#sk-container-id-1 div.sk-serial {display: flex;flex-direction: column;align-items: center;background-color: white;padding-right: 0.2em;padding-left: 0.2em;position: relative;}#sk-container-id-1 div.sk-item {position: relative;z-index: 1;}#sk-container-id-1 div.sk-parallel {display: flex;align-items: stretch;justify-content: center;background-color: white;position: relative;}#sk-container-id-1 div.sk-item::before, #sk-container-id-1 div.sk-parallel-item::before {content: \"\";position: absolute;border-left: 1px solid gray;box-sizing: border-box;top: 0;bottom: 0;left: 50%;z-index: -1;}#sk-container-id-1 div.sk-parallel-item {display: flex;flex-direction: column;z-index: 1;position: relative;background-color: white;}#sk-container-id-1 div.sk-parallel-item:first-child::after {align-self: flex-end;width: 50%;}#sk-container-id-1 div.sk-parallel-item:last-child::after {align-self: flex-start;width: 50%;}#sk-container-id-1 div.sk-parallel-item:only-child::after {width: 0;}#sk-container-id-1 div.sk-dashed-wrapped {border: 1px dashed gray;margin: 0 0.4em 0.5em 0.4em;box-sizing: border-box;padding-bottom: 0.4em;background-color: white;}#sk-container-id-1 div.sk-label label {font-family: monospace;font-weight: bold;display: inline-block;line-height: 1.2em;}#sk-container-id-1 div.sk-label-container {text-align: center;}#sk-container-id-1 div.sk-container {/* jupyter's `normalize.less` sets `[hidden] { display: none; }` but bootstrap.min.css set `[hidden] { display: none !important; }` so we also need the `!important` here to be able to override the default hidden behavior on the sphinx rendered scikit-learn.org. See: https://github.com/scikit-learn/scikit-learn/issues/21755 */display: inline-block !important;position: relative;}#sk-container-id-1 div.sk-text-repr-fallback {display: none;}</style><div id=\"sk-container-id-1\" class=\"sk-top-container\"><div class=\"sk-text-repr-fallback\"><pre>LinearRegression()</pre><b>In a Jupyter environment, please rerun this cell to show the HTML representation or trust the notebook. <br />On GitHub, the HTML representation is unable to render, please try loading this page with nbviewer.org.</b></div><div class=\"sk-container\" hidden><div class=\"sk-item\"><div class=\"sk-estimator sk-toggleable\"><input class=\"sk-toggleable__control sk-hidden--visually\" id=\"sk-estimator-id-1\" type=\"checkbox\" checked><label for=\"sk-estimator-id-1\" class=\"sk-toggleable__label sk-toggleable__label-arrow\">LinearRegression</label><div class=\"sk-toggleable__content\"><pre>LinearRegression()</pre></div></div></div></div></div>"
            ]
          },
          "metadata": {},
          "execution_count": 12
        }
      ]
    },
    {
      "cell_type": "code",
      "source": [
        "score = model.score(X_test, y_test)\n",
        "print(f\"Model accuracy: {score:.2f}\")"
      ],
      "metadata": {
        "colab": {
          "base_uri": "https://localhost:8080/"
        },
        "id": "Kw7aT95DuRWd",
        "outputId": "31510ab7-30c3-4239-8905-5c8402353430"
      },
      "execution_count": null,
      "outputs": [
        {
          "output_type": "stream",
          "name": "stdout",
          "text": [
            "Model accuracy: 0.51\n"
          ]
        }
      ]
    },
    {
      "cell_type": "code",
      "source": [
        "new_data = np.array([[1035.5, 1781.5, 1100.0, 378.2, 1516.0, 1241.0, 986.0, 6.9, 932.5, 827.0, 1186.0]])\n",
        "prediction = model.predict(new_data)"
      ],
      "metadata": {
        "colab": {
          "base_uri": "https://localhost:8080/"
        },
        "id": "e8CmN8vKuS67",
        "outputId": "6596ed6f-f003-49aa-93a8-d2ba2418af1b"
      },
      "execution_count": null,
      "outputs": [
        {
          "output_type": "stream",
          "name": "stderr",
          "text": [
            "/usr/local/lib/python3.9/dist-packages/sklearn/base.py:439: UserWarning: X does not have valid feature names, but LinearRegression was fitted with feature names\n",
            "  warnings.warn(\n"
          ]
        }
      ]
    },
    {
      "cell_type": "code",
      "source": [
        "print(\"Predicted CO level:\", prediction[0], \":mg/m^3\")"
      ],
      "metadata": {
        "colab": {
          "base_uri": "https://localhost:8080/"
        },
        "id": "IyprRgyMuUaP",
        "outputId": "8d386c51-24cb-4fe8-c2ec-32e21df76ab6"
      },
      "execution_count": null,
      "outputs": [
        {
          "output_type": "stream",
          "name": "stdout",
          "text": [
            "Predicted CO level: -474.59141919367687 :mg/m^3\n"
          ]
        }
      ]
    },
    {
      "cell_type": "code",
      "source": [
        "num_test_points = 100\n",
        "test_data = np.random.rand(num_test_points, 11) * 2000\n",
        "predictions = model.predict(test_data)"
      ],
      "metadata": {
        "colab": {
          "base_uri": "https://localhost:8080/"
        },
        "id": "ltUaHhmBvQV1",
        "outputId": "4c4e57d4-b831-4215-99b2-aebfd068481f"
      },
      "execution_count": null,
      "outputs": [
        {
          "output_type": "stream",
          "name": "stderr",
          "text": [
            "/usr/local/lib/python3.9/dist-packages/sklearn/base.py:439: UserWarning: X does not have valid feature names, but LinearRegression was fitted with feature names\n",
            "  warnings.warn(\n"
          ]
        }
      ]
    },
    {
      "cell_type": "code",
      "source": [
        "for i in range(10):\n",
        "    print(\"Test data point, \",i+1,\": Predicted CO level = \",predictions[i],\": mg/m^3\")"
      ],
      "metadata": {
        "colab": {
          "base_uri": "https://localhost:8080/"
        },
        "id": "szinzHn3vowg",
        "outputId": "b6718b95-5513-40d7-e869-e7371411c31f"
      },
      "execution_count": null,
      "outputs": [
        {
          "output_type": "stream",
          "name": "stdout",
          "text": [
            "Test data point,  1 : Predicted CO level =  -460.2683200944381 : mg/m^3\n",
            "Test data point,  2 : Predicted CO level =  713.3891600430636 : mg/m^3\n",
            "Test data point,  3 : Predicted CO level =  -355.0072175398608 : mg/m^3\n",
            "Test data point,  4 : Predicted CO level =  503.6404661588905 : mg/m^3\n",
            "Test data point,  5 : Predicted CO level =  732.0016955035977 : mg/m^3\n",
            "Test data point,  6 : Predicted CO level =  -1227.1809815442127 : mg/m^3\n",
            "Test data point,  7 : Predicted CO level =  -951.6501594968233 : mg/m^3\n",
            "Test data point,  8 : Predicted CO level =  313.49715043300444 : mg/m^3\n",
            "Test data point,  9 : Predicted CO level =  -863.2336812159937 : mg/m^3\n",
            "Test data point,  10 : Predicted CO level =  832.8815396760305 : mg/m^3\n"
          ]
        }
      ]
    },
    {
      "cell_type": "code",
      "source": [
        "plt.scatter(predictions, range(num_test_points))\n",
        "plt.title(\"Predicted CO Levels vs. Test Data\")\n",
        "plt.xlabel(\"Predicted CO Levels (mg/m^3)\")\n",
        "plt.ylabel(\"Test Data Points\")\n",
        "plt.show()"
      ],
      "metadata": {
        "colab": {
          "base_uri": "https://localhost:8080/",
          "height": 295
        },
        "id": "5_h5al_-v0Rg",
        "outputId": "668e97ae-0213-42d2-a901-184f0c4c7120"
      },
      "execution_count": null,
      "outputs": [
        {
          "output_type": "display_data",
          "data": {
            "text/plain": [
              "<Figure size 432x288 with 1 Axes>"
            ],
            "image/png": "[encoded data removed]"
          },
          "metadata": {
            "needs_background": "light"
          }
        }
      ]
    },
    {
      "cell_type": "code",
      "source": [
        "x_test = np.linspace(0, 10, 50)\n",
        "y_test = 2 * x_test + 1 + np.random.normal(scale=2, size=50)"
      ],
      "metadata": {
        "id": "BD4wNOTEv8Ug"
      },
      "execution_count": null,
      "outputs": []
    },
    {
      "cell_type": "code",
      "source": [
        "x_pred = np.linspace(0, 10, 50)\n",
        "y_pred = 2 * x_pred + 1"
      ],
      "metadata": {
        "id": "hgOiij8CwIHe"
      },
      "execution_count": null,
      "outputs": []
    },
    {
      "cell_type": "code",
      "source": [
        "plt.scatter(x_test, y_test, c='blue', label='Test Data')\n",
        "plt.scatter(x_pred, y_pred, c='red', label='Predicted Data')\n",
        "plt.legend()\n",
        "plt.title(\"Predicted vs. Test Data\")\n",
        "plt.xlabel(\"x\")\n",
        "plt.ylabel(\"y\")\n",
        "plt.show()"
      ],
      "metadata": {
        "colab": {
          "base_uri": "https://localhost:8080/",
          "height": 295
        },
        "id": "HJrUxSzVwJi5",
        "outputId": "5aef0107-5c9c-4049-dbdf-bce3f8a828ae"
      },
      "execution_count": null,
      "outputs": [
        {
          "output_type": "display_data",
          "data": {
            "text/plain": [
              "<Figure size 432x288 with 1 Axes>"
            ],
            "image/png": "[encoded data removed]"
          },
          "metadata": {
            "needs_background": "light"
          }
        }
      ]
    }
  ]
}